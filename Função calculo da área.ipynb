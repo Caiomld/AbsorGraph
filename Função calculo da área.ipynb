{
 "cells": [
  {
   "cell_type": "code",
   "execution_count": 1,
   "id": "79e0f697",
   "metadata": {},
   "outputs": [],
   "source": [
    "# Bibliotecas Utilizadas\n",
    "import pandas as pd \n",
    "import numpy as np \n",
    "import glob as gb"
   ]
  },
  {
   "cell_type": "code",
   "execution_count": 2,
   "id": "9c377451",
   "metadata": {},
   "outputs": [],
   "source": [
    "def calculo_area(file_pattern,x_min=0,x_max=float(\"inf\")):\n",
    "    \"\"\"Calcula a área sob o gráfico \"\"\"\n",
    "    sem_arquivos = True\n",
    "    while sem_arquivos == True:\n",
    "        arquivos = gb.glob(file_pattern)\n",
    "            \n",
    "    indice = 1\n",
    "    \n",
    "    \n",
    "    for i in arquivos: \n",
    "        dados = pd.read_csv(i)\n",
    "        dados.rename(columns = {dados.columns[0]: \"Comprimento de onda (nm)\", dados.columns[1]: \"Absorbância\"}, inplace = True)\n",
    "        \n",
    "        comprimento_de_onda = dados[\"Comprimento de onda (nm)\"].values\n",
    "        \n",
    "        dados_filtrados = dados[(dados[\"Comprimento de onda (nm)\"] >= x_min) & (dados[\"Comprimento de onda (nm)\"] <= x_max)]\n",
    "        \n",
    "        comprimento_de_onda = dados_filtrados[\"Comprimento de onda (nm)\"].values\n",
    "        absorbancia = dados_filtrados[\"Absorbância\"].values\n",
    "        \n",
    "   \n",
    "        area = np.trapz(absorbancia, comprimento_de_onda)\n",
    "        area = round(area, 4)\n",
    "       \n",
    "        \n",
    "        print(f\"A área sob a curva é: {area} para o gráfico {indice}\")\n",
    "        \n",
    "        indice +=1\n",
    "        "
   ]
  },
  {
   "cell_type": "code",
   "execution_count": null,
   "id": "d8b3d412",
   "metadata": {},
   "outputs": [],
   "source": []
  }
 ],
 "metadata": {
  "kernelspec": {
   "display_name": "ilumpy",
   "language": "python",
   "name": "ilumpy"
  },
  "language_info": {
   "codemirror_mode": {
    "name": "ipython",
    "version": 3
   },
   "file_extension": ".py",
   "mimetype": "text/x-python",
   "name": "python",
   "nbconvert_exporter": "python",
   "pygments_lexer": "ipython3",
   "version": "3.11.6"
  }
 },
 "nbformat": 4,
 "nbformat_minor": 5
}
