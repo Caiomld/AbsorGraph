{
 "cells": [
  {
   "cell_type": "code",
   "execution_count": 1,
   "id": "5e302137",
   "metadata": {},
   "outputs": [],
   "source": [
    "# Bibliotecas Utilizadas\n",
    "import seaborn as sns\n",
    "import pandas as pd \n",
    "import numpy as np \n",
    "import matplotlib.pyplot as plt \n",
    "import glob as gb\n",
    "import seaborn as sns\n",
    "\n",
    "\n",
    "sns.set_theme(font_scale = 0.5, context = \"poster\")"
   ]
  },
  {
   "cell_type": "code",
   "execution_count": 2,
   "id": "91c8b959",
   "metadata": {},
   "outputs": [],
   "source": [
    "def plot_graficos(file_pattern, cor = \"black\", x_min = None, x_max =None, titulo = 'plot_gráficos' ):\n",
    "    \"\"\"\n",
    "    Cria gráficos de absorbância com base nos arquivos determinados pelo file_pattern. \n",
    "    O único argumento dispensável é um arquivo ou padrão de arquivo.\n",
    "    Se desejar, o usuário também pode escolher as seguintes variáveis: Cor, intervalo e título.\n",
    "    \"\"\"\n",
    "    \n",
    "# Plotagem de gráficos\n",
    "    arquivos = gb.glob(file_pattern)\n",
    "    indice = 1     \n",
    "    for i in arquivos:\n",
    "        dados = pd.read_csv(i, delimiter=\",\")\n",
    "        dados.rename(columns={dados.columns[0]: \"Comprimento de onda (nm)\", dados.columns[1]: \"Absorbância\"}, inplace=True)\n",
    "        \n",
    "        ax = dados.plot (\n",
    "            title= \"Espectro de absorção\",\n",
    "            x=\"Comprimento de onda (nm)\",\n",
    "            y=\"Absorbância\", \n",
    "            color=cor,\n",
    "            figsize=(10,6),\n",
    "            linewidth=3, \n",
    "            alpha=1\n",
    "        ) \n",
    "        if x_min is not None and x_max is not None:\n",
    "            plt.xlim(x_min, x_max)\n",
    "        elif x_min is not None:\n",
    "            plt.xlim(left=x_min)\n",
    "        elif x_max is not None:\n",
    "            plt.xlim(right=x_max)\n",
    "            \n",
    "        ax.set_title(f\"{titulo} - Gráfico {indice}\", fontsize=16, fontweight='bold')\n",
    "        ax.set_xlabel(\"Comprimento de onda (nm)\", fontsize=12, fontweight='bold')\n",
    "        ax.set_ylabel(\"Absorbância\", fontsize = 12,fontweight='bold')\n",
    "        plt.savefig(f\"{titulo} - Gráfico {indice}.png\")\n",
    "        plt.show()\n",
    "        indice += 1"
   ]
  },
  {
   "cell_type": "code",
   "execution_count": null,
   "id": "86e680f8",
   "metadata": {},
   "outputs": [],
   "source": []
  }
 ],
 "metadata": {
  "kernelspec": {
   "display_name": "ilumpy",
   "language": "python",
   "name": "ilumpy"
  },
  "language_info": {
   "codemirror_mode": {
    "name": "ipython",
    "version": 3
   },
   "file_extension": ".py",
   "mimetype": "text/x-python",
   "name": "python",
   "nbconvert_exporter": "python",
   "pygments_lexer": "ipython3",
   "version": "3.11.6"
  }
 },
 "nbformat": 4,
 "nbformat_minor": 5
}
